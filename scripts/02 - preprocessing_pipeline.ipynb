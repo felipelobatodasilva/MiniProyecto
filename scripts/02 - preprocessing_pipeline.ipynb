{
 "cells": [
  {
   "cell_type": "markdown",
   "metadata": {
    "vscode": {
     "languageId": "plaintext"
    }
   },
   "source": [
    "# Pipeline de Preprocesamiento\n",
    " \n",
    "En este notebook implementaremos el pipeline de preprocesamiento para los datos de bancarrota, incluyendo:\n",
    "- Normalización de variables\n",
    "- Manejo de outliers\n",
    "- Balanceo de clases\n",
    "- Guardado de datos procesados"
   ]
  },
  {
   "cell_type": "code",
   "execution_count": 2,
   "metadata": {},
   "outputs": [],
   "source": [
    "# Importar bibliotecas\n",
    "import pandas as pd\n",
    "import numpy as np\n",
    "from sklearn.preprocessing import RobustScaler\n",
    "from sklearn.compose import ColumnTransformer\n",
    "from imblearn.pipeline import Pipeline as ImbPipeline\n",
    "from imblearn.over_sampling import SMOTE\n",
    "import os"
   ]
  },
  {
   "cell_type": "markdown",
   "metadata": {},
   "source": [
    "## 1. Carga de Datos"
   ]
  },
  {
   "cell_type": "code",
   "execution_count": 3,
   "metadata": {},
   "outputs": [
    {
     "name": "stdout",
     "output_type": "stream",
     "text": [
      "Cargando datos...\n",
      "\n",
      "Dimensiones del conjunto de entrenamiento: (2050, 65)\n",
      "Dimensiones del conjunto de prueba: (500, 64)\n"
     ]
    }
   ],
   "source": [
    "print(\"Cargando datos...\")\n",
    "train_data = pd.read_csv('../archivos/train_data.csv')\n",
    "test_data = pd.read_csv('../archivos/test_data.csv')\n",
    "\n",
    "# Mostrar dimensiones iniciales\n",
    "print(f\"\\nDimensiones del conjunto de entrenamiento: {train_data.shape}\")\n",
    "print(f\"Dimensiones del conjunto de prueba: {test_data.shape}\")"
   ]
  },
  {
   "cell_type": "markdown",
   "metadata": {},
   "source": [
    "## 2. Separación de Características y Objetivo"
   ]
  },
  {
   "cell_type": "code",
   "execution_count": 4,
   "metadata": {},
   "outputs": [
    {
     "name": "stdout",
     "output_type": "stream",
     "text": [
      "\n",
      "Dimensiones después de la separación:\n",
      "X_train: (2050, 63)\n",
      "y_train: (2050,)\n",
      "X_test: (500, 63)\n"
     ]
    }
   ],
   "source": [
    "# Separar características y objetivo\n",
    "X_train = train_data.drop(['ID', 'Bankruptcy'], axis=1)\n",
    "y_train = train_data['Bankruptcy']\n",
    "X_test = test_data.drop('ID', axis=1)\n",
    "\n",
    "print(\"\\nDimensiones después de la separación:\")\n",
    "print(f\"X_train: {X_train.shape}\")\n",
    "print(f\"y_train: {y_train.shape}\")\n",
    "print(f\"X_test: {X_test.shape}\")"
   ]
  },
  {
   "cell_type": "markdown",
   "metadata": {},
   "source": [
    "## 3. Identificación de Variables Numéricas\n"
   ]
  },
  {
   "cell_type": "code",
   "execution_count": 5,
   "metadata": {},
   "outputs": [
    {
     "name": "stdout",
     "output_type": "stream",
     "text": [
      "\n",
      "Número de variables numéricas: 63\n",
      "\n",
      "Variables numéricas:\n",
      "['Realized.Sales.Gross.Profit.Growth.Rate', 'Operating.Expense.Rate', 'Operating.Profit.Per.Share..Yuan...', 'Gross.Profit.to.Sales', 'Tax.rate..A.', 'Current.Liability.to.Liability', 'Continuous.Net.Profit.Growth.Rate', 'Long.term.Liability.to.Current.Assets', 'Total.assets.to.GNP.price', 'Current.Liabilities.Equity', 'CFO.to.Assets', 'Current.Liability.to.Current.Assets', 'Persistent.EPS.in.the.Last.Four.Seasons', 'Cash.Total.Assets', 'Inventory.Working.Capital', 'Net.Value.Per.Share..B.', 'Current.Assets.Total.Assets', 'Net.Worth.Turnover.Rate..times.', 'Interest.Coverage.Ratio..Interest.expense.to.EBIT.', 'Equity.to.Liability', 'Operating.profit.Paid.in.capital', 'No.credit.Interval', 'Interest.bearing.debt.interest.rate', 'Net.Income.to.Stockholder.s.Equity', 'Quick.Ratio', 'Cash.Flow.to.Sales', 'Equity.to.Long.term.Liability', 'Working.Capital.Equity', 'After.tax.net.Interest.Rate', 'Current.Liability.to.Assets', 'Net.Value.Per.Share..C.', 'Revenue.per.person', 'Borrowing.dependency', 'Operating.Profit.Rate', 'Long.term.fund.suitability.ratio..A.', 'Pre.tax.net.Interest.Rate', 'After.tax.Net.Profit.Growth.Rate', 'Operating.profit.per.person', 'Realized.Sales.Gross.Margin', 'Cash.Current.Liability', 'Current.Liability.to.Equity', 'Total.expense.Assets', 'Current.Asset.Turnover.Rate', 'Fixed.Assets.Turnover.Frequency', 'ROA.B..before.interest.and.depreciation.after.tax', 'Quick.Asset.Turnover.Rate', 'Debt.ratio..', 'Retained.Earnings.to.Total.Assets', 'Total.debt.Total.net.worth', 'Fixed.Assets.to.Assets', 'Total.Asset.Growth.Rate', 'Inventory.and.accounts.receivable.Net.value', 'Net.Income.Flag', 'Per.Share.Net.profit.before.tax..Yuan...', 'Continuous.interest.rate..after.tax.', 'Liability.Assets.Flag', 'Working.Capital.to.Total.Assets', 'Degree.of.Financial.Leverage..DFL.', 'Operating.Gross.Margin', 'Contingent.liabilities.Net.worth', 'Operating.Profit.Growth.Rate', 'Cash.Flow.to.Liability', 'Quick.Assets.Total.Assets']\n"
     ]
    }
   ],
   "source": [
    "# Identificar variables numéricas\n",
    "numeric_features = X_train.select_dtypes(include=[np.number]).columns.tolist()\n",
    "print(f\"\\nNúmero de variables numéricas: {len(numeric_features)}\")\n",
    "print(\"\\nVariables numéricas:\")\n",
    "print(numeric_features)"
   ]
  },
  {
   "cell_type": "markdown",
   "metadata": {},
   "source": [
    "## 4. Creación del Pipeline de Preprocesamiento\n"
   ]
  },
  {
   "cell_type": "code",
   "execution_count": 6,
   "metadata": {},
   "outputs": [],
   "source": [
    "# Crear pipeline de preprocesamiento\n",
    "preprocessor = ColumnTransformer(\n",
    "    transformers=[\n",
    "        ('num', RobustScaler(), numeric_features)\n",
    "    ],\n",
    "    remainder='passthrough'\n",
    ")\n",
    "\n",
    "# Crear pipeline completo con SMOTE\n",
    "pipeline = ImbPipeline([\n",
    "    ('preprocessor', preprocessor),\n",
    "    ('smote', SMOTE(random_state=42))\n",
    "])"
   ]
  },
  {
   "cell_type": "markdown",
   "metadata": {},
   "source": [
    "## 5. Aplicación del Pipeline\n"
   ]
  },
  {
   "cell_type": "code",
   "execution_count": 7,
   "metadata": {},
   "outputs": [
    {
     "name": "stdout",
     "output_type": "stream",
     "text": [
      "\n",
      "Aplicando pipeline de preprocesamiento...\n",
      "\n",
      "Dimensiones después del procesamiento:\n",
      "X_train_processed: (3976, 63)\n",
      "y_train_processed: (3976,)\n",
      "X_test_processed: (500, 63)\n"
     ]
    }
   ],
   "source": [
    "# Aplicar pipeline\n",
    "print(\"\\nAplicando pipeline de preprocesamiento...\")\n",
    "X_train_processed, y_train_processed = pipeline.fit_resample(X_train, y_train)\n",
    "\n",
    "# Mostrar dimensiones después del procesamiento\n",
    "print(f\"\\nDimensiones después del procesamiento:\")\n",
    "print(f\"X_train_processed: {X_train_processed.shape}\")\n",
    "print(f\"y_train_processed: {y_train_processed.shape}\")\n",
    "\n",
    "# Procesar conjunto de prueba\n",
    "X_test_processed = pipeline.named_steps['preprocessor'].transform(X_test)\n",
    "print(f\"X_test_processed: {X_test_processed.shape}\")"
   ]
  },
  {
   "cell_type": "markdown",
   "metadata": {},
   "source": [
    "## 6. Guardado de Datos Procesados\n"
   ]
  },
  {
   "cell_type": "code",
   "execution_count": 8,
   "metadata": {},
   "outputs": [
    {
     "name": "stdout",
     "output_type": "stream",
     "text": [
      "\n",
      "Guardando datos procesados...\n",
      "\n",
      "Datos procesados guardados exitosamente:\n",
      "- X_train_processed.npy\n",
      "- y_train_processed.npy\n",
      "- X_test_processed.npy\n"
     ]
    }
   ],
   "source": [
    "# Guardar datos procesados\n",
    "print(\"\\nGuardando datos procesados...\")\n",
    "os.makedirs('archivos', exist_ok=True)\n",
    "\n",
    "np.save('archivos/X_train_processed.npy', X_train_processed)\n",
    "np.save('archivos/y_train_processed.npy', y_train_processed)\n",
    "np.save('archivos/X_test_processed.npy', X_test_processed)\n",
    "\n",
    "print(\"\\nDatos procesados guardados exitosamente:\")\n",
    "print(\"- X_train_processed.npy\")\n",
    "print(\"- y_train_processed.npy\")\n",
    "print(\"- X_test_processed.npy\")"
   ]
  },
  {
   "cell_type": "markdown",
   "metadata": {},
   "source": [
    "## 7. Verificación de Balance de Clases\n"
   ]
  },
  {
   "cell_type": "code",
   "execution_count": 9,
   "metadata": {},
   "outputs": [
    {
     "name": "stdout",
     "output_type": "stream",
     "text": [
      "\n",
      "Distribución de clases después del balanceo:\n",
      "Bankruptcy\n",
      "0    0.5\n",
      "1    0.5\n",
      "Name: proportion, dtype: float64\n"
     ]
    }
   ],
   "source": [
    "# Verificar balance de clases\n",
    "print(\"\\nDistribución de clases después del balanceo:\")\n",
    "print(pd.Series(y_train_processed).value_counts(normalize=True))"
   ]
  },
  {
   "cell_type": "markdown",
   "metadata": {},
   "source": [
    "## 8. Resumen del Procesamiento\n"
   ]
  },
  {
   "cell_type": "code",
   "execution_count": 10,
   "metadata": {},
   "outputs": [
    {
     "name": "stdout",
     "output_type": "stream",
     "text": [
      "\n",
      "Resumen del procesamiento:\n",
      "1. Datos originales: 2050 muestras\n",
      "2. Datos procesados: 3976 muestras\n",
      "3. Variables numéricas procesadas: 63\n",
      "4. Balance de clases logrado: Sí\n",
      "5. Datos de prueba procesados: 500 muestras\n"
     ]
    }
   ],
   "source": [
    "print(\"\\nResumen del procesamiento:\")\n",
    "print(f\"1. Datos originales: {X_train.shape[0]} muestras\")\n",
    "print(f\"2. Datos procesados: {X_train_processed.shape[0]} muestras\")\n",
    "print(f\"3. Variables numéricas procesadas: {len(numeric_features)}\")\n",
    "print(f\"4. Balance de clases logrado: Sí\")\n",
    "print(f\"5. Datos de prueba procesados: {X_test_processed.shape[0]} muestras\")"
   ]
  }
 ],
 "metadata": {
  "kernelspec": {
   "display_name": "venv",
   "language": "python",
   "name": "python3"
  },
  "language_info": {
   "codemirror_mode": {
    "name": "ipython",
    "version": 3
   },
   "file_extension": ".py",
   "mimetype": "text/x-python",
   "name": "python",
   "nbconvert_exporter": "python",
   "pygments_lexer": "ipython3",
   "version": "3.12.3"
  }
 },
 "nbformat": 4,
 "nbformat_minor": 2
}
